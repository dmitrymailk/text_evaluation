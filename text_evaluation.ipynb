{
 "cells": [
  {
   "attachments": {},
   "cell_type": "markdown",
   "metadata": {},
   "source": [
    "### [Bleu. The Bilingual Evaluation Understudy](https://aclanthology.org/P02-1040.pdf)"
   ]
  },
  {
   "attachments": {},
   "cell_type": "markdown",
   "metadata": {},
   "source": [
    "https://huggingface.co/spaces/evaluate-metric/bleu"
   ]
  },
  {
   "attachments": {},
   "cell_type": "markdown",
   "metadata": {},
   "source": [
    "https://pypi.org/project/sacrebleu/2.3.1/"
   ]
  },
  {
   "attachments": {},
   "cell_type": "markdown",
   "metadata": {},
   "source": [
    "https://machinelearningmastery.com/calculate-bleu-score-for-text-python/"
   ]
  },
  {
   "cell_type": "code",
   "execution_count": null,
   "metadata": {},
   "outputs": [],
   "source": [
    "import evaluate\n",
    "from nltk.translate.bleu_score import sentence_bleu\n",
    "\n",
    "candidate_1 = \"It is a guide to action which ensures that the military always obeys the commands of the party.\"\n",
    "\n",
    "candidate_2 = \"It is to insure the troops forever hearing the activity guidebook that party direct.\"\n",
    "\n",
    "reference_1 = \"It is a guide to action that ensures that the military will forever heed Party commands.\"\n",
    "reference_2 = \"It is the guiding principle which guarantees the military forces always being under the command of the Party.\"\n",
    "reference_3 = \"It is the practical guide for the army always to heed the directions of the party.\"\n",
    "\n",
    "bleu = evaluate.load(\"bleu\")\n",
    "sacrebleu = evaluate.load(\"sacrebleu\")\n",
    "\n",
    "references = [\n",
    "\t[\n",
    "\t\treference_1, \n",
    "\t\treference_2, \n",
    "\t\treference_3\n",
    "\t], \n",
    "]\n",
    "\n",
    "candidates = [\n",
    "\tcandidate_1,\n",
    "\tcandidate_2\n",
    "]\n",
    "print(\"bleu\")\n",
    "for candidate in candidates:\n",
    "\tbleu_score = bleu.compute(\n",
    "\t\tpredictions=[candidate],\n",
    "\t\treferences=references\n",
    "\t)\n",
    "\tprint(bleu_score['bleu'])\n",
    "\n",
    "print(\"sacrebleu\")\n",
    "for candidate in candidates:\n",
    "\tbleu_score = sacrebleu.compute(\n",
    "\t\tpredictions=[candidate],\n",
    "\t\treferences=references\n",
    "\t)\n",
    "\tprint(bleu_score['score'])\n",
    "\n",
    "print(\"nltk bleu\") \n",
    "for candidate in candidates:\n",
    "    candidate = candidate.split()\n",
    "    reference = [item.split() for item in references[0]]\n",
    "    bleu_score = sentence_bleu(reference, candidate)\n",
    "    print(bleu_score)\n",
    "    \n",
    "# bleu\n",
    "# 0.5401725898595141\n",
    "# 0.0\n",
    "# sacrebleu\n",
    "# 54.017258985951415\n",
    "# 6.699559159060897\n",
    "# nltk bleu\n",
    "# 0.4969770530031034\n",
    "# 5.7264676266231995e-155"
   ]
  },
  {
   "attachments": {},
   "cell_type": "markdown",
   "metadata": {},
   "source": [
    "## [Rouge. Recall-Oriented Understudy for Gisting Evaluation (2004)](https://aclanthology.org/W04-1013.pdf)"
   ]
  },
  {
   "cell_type": "code",
   "execution_count": 1,
   "metadata": {},
   "outputs": [
    {
     "name": "stdout",
     "output_type": "stream",
     "text": [
      "rouge-1 = 0.40789\n",
      "rouge-2 = 0.05882\n",
      "rouge-3 = 0.0\n",
      "rouge-l = 0.40789\n",
      "rouge-w-1.2 = 0.30222\n",
      "rouge-s4 = 0.14615\n",
      "rouge-su4 = 0.19817\n"
     ]
    }
   ],
   "source": [
    "# данная библиотека является оберткой над оригинальной имплементацией авторов\n",
    "# https://github.com/li-plus/rouge-metric\n",
    "from rouge_metric import PerlRouge\n",
    "\n",
    "rouge = PerlRouge(\n",
    "    rouge_n_max=3, \n",
    "    rouge_l=True, \n",
    "    rouge_w=True,\n",
    "    rouge_w_weight=1.2, \n",
    "    rouge_s=True, \n",
    "    rouge_su=True, \n",
    "    skip_gap=4\n",
    ")\n",
    "\n",
    "# Load summary results and evaluate\n",
    "hypotheses = [\n",
    "    'how are you\\ni am fine',                       # document 1: hypothesis\n",
    "    'it is fine today\\nwe won the football game',   # document 2: hypothesis\n",
    "]\n",
    "references = [\n",
    "    [\n",
    "        'how do you do\\nfine thanks',   # document 1: reference 1\n",
    "    ], \n",
    "    [\n",
    "        'it is sunny today\\nlet us go for a walk',  # document 2: reference 1\n",
    "    ]\n",
    "]\n",
    "\n",
    "scores = rouge.evaluate(hypotheses, references)\n",
    "for key in scores.keys():\n",
    "    f1_score = scores[key]['f']\n",
    "    print(f\"{key} = {f1_score}\")\n",
    "# так как мы имеем дело с короткими текстами, то следует доверять больше метрике rouge-l \n",
    "# rouge-1 = 0.53622\n",
    "# rouge-2 = 0.20346\n",
    "# rouge-3 = 0.11765\n",
    "# rouge-l = 0.53622\n",
    "# rouge-w-1.2 = 0.39308\n",
    "# rouge-s4 = 0.272\n",
    "# rouge-su4 = 0.33382"
   ]
  },
  {
   "cell_type": "code",
   "execution_count": null,
   "metadata": {},
   "outputs": [],
   "source": [
    "# his implementation is independant from the \"official\" ROUGE script\n",
    "# https://github.com/pltrdy/rouge\n",
    "from rouge import Rouge \n",
    "\n",
    "reference2 = [ item[0] for item in  references ] \n",
    "\n",
    "rouge = Rouge()\n",
    "scores = rouge.get_scores(hypotheses, reference2, avg=True)\n",
    "for key in scores.keys():\n",
    "    f1_score = scores[key]['f']\n",
    "    print(f\"{key} = {f1_score}\")\n",
    "# Как можно заметить данные метрики отличаются от официальной обертки, с одинаковыми входными данными\n",
    "# rouge-1 = 0.4306220045969644\n",
    "# rouge-2 = 0.05882352692041533\n",
    "# rouge-l = 0.4306220045969644"
   ]
  },
  {
   "cell_type": "code",
   "execution_count": null,
   "metadata": {},
   "outputs": [],
   "source": [
    "# https://torchmetrics.readthedocs.io/en/stable/text/rouge_score.html\n",
    "from torchmetrics.text.rouge import ROUGEScore\n",
    "\n",
    "rouge = ROUGEScore(accumulate='avg')\n",
    "\n",
    "scores = rouge(hypotheses, reference2, )\n",
    "for key in scores.keys():\n",
    "    if \"fmeasure\" in key:\n",
    "        f1_score = scores[key]\n",
    "        print(f\"{key} = {f1_score}\")\n",
    "# снова видим совпадение в некоторых местах, а где-то различие   \n",
    "# rouge1_fmeasure = 0.40789473056793213\n",
    "# rouge2_fmeasure = 0.05882352963089943\n",
    "# rougeL_fmeasure = 0.40789473056793213\n",
    "# rougeLsum_fmeasure = 0.40789473056793213"
   ]
  },
  {
   "cell_type": "code",
   "execution_count": null,
   "metadata": {},
   "outputs": [],
   "source": [
    "# https://huggingface.co/spaces/evaluate-metric/rouge\n",
    "import evaluate\n",
    "rouge = evaluate.load('rouge')\n",
    "results = rouge.compute(\n",
    "    predictions=hypotheses,\n",
    "    references=references\n",
    ")\n",
    "for key in results.keys():\n",
    "    f1_score = results[key]\n",
    "    print(f\"{key} = {f1_score}\")\n",
    "# видим почти идеальное совпадение, только только потому что это почти полная копирка кода с \n",
    "# https://github.com/google-research/google-research/tree/master/rouge\n",
    "# rouge1 = 0.40789473684210525\n",
    "# rouge2 = 0.058823529411764705\n",
    "# rougeL = 0.40789473684210525\n",
    "# rougeLsum = 0.40789473684210525"
   ]
  },
  {
   "attachments": {},
   "cell_type": "markdown",
   "metadata": {},
   "source": [
    "[Meteor. The Metric for Evaluation of Translation with Explicit ORdering](https://aclanthology.org/W05-0909.pdf)"
   ]
  },
  {
   "cell_type": "code",
   "execution_count": null,
   "metadata": {},
   "outputs": [],
   "source": [
    "# https://huggingface.co/spaces/evaluate-metric/meteor\n",
    "import evaluate\n",
    "meteor = evaluate.load('meteor')\n",
    "predictions = [\"It is a guide to action which ensures that the military always obeys the commands of the party\"]\n",
    "references = [\"It is a guide to action that ensures that the military will forever heed Party commands\"]\n",
    "results = meteor.compute(\n",
    "    predictions=predictions, \n",
    "    references=references\n",
    ")\n",
    "results\n",
    "# результат совпадает с NLTK, потому что эта либа и есть обертка над NLTK.\n",
    "print(results['meteor'])\n",
    "# 0.6944444444444445"
   ]
  }
 ],
 "metadata": {
  "kernelspec": {
   "display_name": "env",
   "language": "python",
   "name": "python3"
  },
  "language_info": {
   "codemirror_mode": {
    "name": "ipython",
    "version": 3
   },
   "file_extension": ".py",
   "mimetype": "text/x-python",
   "name": "python",
   "nbconvert_exporter": "python",
   "pygments_lexer": "ipython3",
   "version": "3.10.6"
  },
  "orig_nbformat": 4,
  "vscode": {
   "interpreter": {
    "hash": "ce492bd8927b592435d6dd5b50b9b409397392cf40da180e09759e617a84bf54"
   }
  }
 },
 "nbformat": 4,
 "nbformat_minor": 2
}
