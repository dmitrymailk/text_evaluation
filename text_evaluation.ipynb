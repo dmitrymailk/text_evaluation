{
 "cells": [
  {
   "attachments": {},
   "cell_type": "markdown",
   "metadata": {},
   "source": [
    "### [Bleu. The Bilingual Evaluation Understudy](https://aclanthology.org/P02-1040.pdf)"
   ]
  },
  {
   "attachments": {},
   "cell_type": "markdown",
   "metadata": {},
   "source": [
    "https://huggingface.co/spaces/evaluate-metric/bleu"
   ]
  },
  {
   "attachments": {},
   "cell_type": "markdown",
   "metadata": {},
   "source": [
    "https://pypi.org/project/sacrebleu/2.3.1/"
   ]
  },
  {
   "attachments": {},
   "cell_type": "markdown",
   "metadata": {},
   "source": [
    "https://machinelearningmastery.com/calculate-bleu-score-for-text-python/"
   ]
  },
  {
   "cell_type": "code",
   "execution_count": 1,
   "metadata": {},
   "outputs": [
    {
     "name": "stderr",
     "output_type": "stream",
     "text": [
      "/home/dimweb/Desktop/deeppavlov/text_evaluation/env/lib/python3.10/site-packages/tqdm/auto.py:22: TqdmWarning: IProgress not found. Please update jupyter and ipywidgets. See https://ipywidgets.readthedocs.io/en/stable/user_install.html\n",
      "  from .autonotebook import tqdm as notebook_tqdm\n"
     ]
    },
    {
     "name": "stdout",
     "output_type": "stream",
     "text": [
      "bleu\n",
      "0.5401725898595141\n",
      "0.0\n",
      "sacrebleu\n",
      "54.017258985951415\n",
      "6.699559159060897\n",
      "nltk bleu\n",
      "0.4969770530031034\n",
      "5.7264676266231995e-155\n"
     ]
    },
    {
     "name": "stderr",
     "output_type": "stream",
     "text": [
      "/home/dimweb/Desktop/deeppavlov/text_evaluation/env/lib/python3.10/site-packages/nltk/translate/bleu_score.py:552: UserWarning: \n",
      "The hypothesis contains 0 counts of 3-gram overlaps.\n",
      "Therefore the BLEU score evaluates to 0, independently of\n",
      "how many N-gram overlaps of lower order it contains.\n",
      "Consider using lower n-gram order or use SmoothingFunction()\n",
      "  warnings.warn(_msg)\n",
      "/home/dimweb/Desktop/deeppavlov/text_evaluation/env/lib/python3.10/site-packages/nltk/translate/bleu_score.py:552: UserWarning: \n",
      "The hypothesis contains 0 counts of 4-gram overlaps.\n",
      "Therefore the BLEU score evaluates to 0, independently of\n",
      "how many N-gram overlaps of lower order it contains.\n",
      "Consider using lower n-gram order or use SmoothingFunction()\n",
      "  warnings.warn(_msg)\n"
     ]
    }
   ],
   "source": [
    "import evaluate\n",
    "from nltk.translate.bleu_score import sentence_bleu\n",
    "\n",
    "candidate_1 = \"It is a guide to action which ensures that the military always obeys the commands of the party.\"\n",
    "\n",
    "candidate_2 = \"It is to insure the troops forever hearing the activity guidebook that party direct.\"\n",
    "\n",
    "reference_1 = \"It is a guide to action that ensures that the military will forever heed Party commands.\"\n",
    "reference_2 = \"It is the guiding principle which guarantees the military forces always being under the command of the Party.\"\n",
    "reference_3 = \"It is the practical guide for the army always to heed the directions of the party.\"\n",
    "\n",
    "bleu = evaluate.load(\"bleu\")\n",
    "sacrebleu = evaluate.load(\"sacrebleu\")\n",
    "\n",
    "references = [\n",
    "\t[\n",
    "\t\treference_1, \n",
    "\t\treference_2, \n",
    "\t\treference_3\n",
    "\t], \n",
    "]\n",
    "\n",
    "candidates = [\n",
    "\tcandidate_1,\n",
    "\tcandidate_2\n",
    "]\n",
    "print(\"bleu\")\n",
    "for candidate in candidates:\n",
    "\tbleu_score = bleu.compute(\n",
    "\t\tpredictions=[candidate],\n",
    "\t\treferences=references\n",
    "\t)\n",
    "\tprint(bleu_score['bleu'])\n",
    "\n",
    "print(\"sacrebleu\")\n",
    "for candidate in candidates:\n",
    "\tbleu_score = sacrebleu.compute(\n",
    "\t\tpredictions=[candidate],\n",
    "\t\treferences=references\n",
    "\t)\n",
    "\tprint(bleu_score['score'])\n",
    "\n",
    "print(\"nltk bleu\") \n",
    "for candidate in candidates:\n",
    "    candidate = candidate.split()\n",
    "    reference = [item.split() for item in references[0]]\n",
    "    bleu_score = sentence_bleu(reference, candidate)\n",
    "    print(bleu_score)\n",
    "    \n",
    "# bleu\n",
    "# 0.5401725898595141\n",
    "# 0.0\n",
    "# sacrebleu\n",
    "# 54.017258985951415\n",
    "# 6.699559159060897\n",
    "# nltk bleu\n",
    "# 0.4969770530031034\n",
    "# 5.7264676266231995e-155"
   ]
  }
 ],
 "metadata": {
  "kernelspec": {
   "display_name": "env",
   "language": "python",
   "name": "python3"
  },
  "language_info": {
   "codemirror_mode": {
    "name": "ipython",
    "version": 3
   },
   "file_extension": ".py",
   "mimetype": "text/x-python",
   "name": "python",
   "nbconvert_exporter": "python",
   "pygments_lexer": "ipython3",
   "version": "3.10.6"
  },
  "orig_nbformat": 4,
  "vscode": {
   "interpreter": {
    "hash": "ce492bd8927b592435d6dd5b50b9b409397392cf40da180e09759e617a84bf54"
   }
  }
 },
 "nbformat": 4,
 "nbformat_minor": 2
}
